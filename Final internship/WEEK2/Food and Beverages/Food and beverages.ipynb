{
 "cells": [
  {
   "cell_type": "markdown",
   "id": "66bc17af",
   "metadata": {},
   "source": [
    "Cafe"
   ]
  },
  {
   "cell_type": "code",
   "execution_count": 8,
   "id": "550d04b5",
   "metadata": {},
   "outputs": [
    {
     "name": "stdout",
     "output_type": "stream",
     "text": [
      "Cleaned data saved to D:\\mani\\cafe.csv\n"
     ]
    }
   ],
   "source": [
    "import pandas as pd\n",
    "import re\n",
    "\n",
    "# Define a function to perform the data cleaning tasks\n",
    "def clean_text(text):\n",
    "    # Convert to lowercase\n",
    "    text = text.lower()\n",
    "    # Remove links (URLs)\n",
    "    text = re.sub(r'http\\S+', '', text)\n",
    "    \n",
    "    # Remove punctuation and symbols\n",
    "    text = re.sub(r'[^\\w\\s]', ' ', text)\n",
    "    \n",
    "    # Remove @user mentions\n",
    "    text = re.sub(r'@\\w+', '', text)\n",
    "    \n",
    "    # Remove hashtags\n",
    "    text = re.sub(r'#\\w+', '', text)\n",
    "    \n",
    "   \n",
    "    \n",
    "    return text\n",
    "\n",
    "# Load the data from an Excel file\n",
    "file_path = \"D:\\\\datasets\\\\food and beverages\\\\cafe.csv\"\n",
    "df = pd.read_csv(file_path)\n",
    "\n",
    "# Apply the cleaning function to the specified column\n",
    "df['full_text'] = df['full_text'].apply(clean_text)\n",
    "# Remove duplicates\n",
    "df.drop_duplicates(subset=['full_text'], inplace=True)\n",
    "\n",
    "# Remove rows with null values\n",
    "df.dropna(subset=['full_text'], inplace=True)\n",
    "\n",
    "# Save the cleaned data back to a new Excel file\n",
    "cleaned_file_path = \"D:\\\\mani\\\\cafe.csv\"\n",
    "df.to_csv(cleaned_file_path, index=False)\n",
    "\n",
    "print(f\"Cleaned data saved to {cleaned_file_path}\")"
   ]
  },
  {
   "cell_type": "markdown",
   "id": "3f5158ae",
   "metadata": {},
   "source": [
    "Food court"
   ]
  },
  {
   "cell_type": "code",
   "execution_count": 9,
   "id": "05cf634d",
   "metadata": {},
   "outputs": [
    {
     "name": "stdout",
     "output_type": "stream",
     "text": [
      "Cleaned data saved to D:\\mani\\foodcourt.csv\n"
     ]
    }
   ],
   "source": [
    "import pandas as pd\n",
    "import re\n",
    "\n",
    "# Define a function to perform the data cleaning tasks\n",
    "def clean_text(text):\n",
    "    # Convert to lowercase\n",
    "    text = text.lower()\n",
    "    # Remove links (URLs)\n",
    "    text = re.sub(r'http\\S+', '', text)\n",
    "    \n",
    "    # Remove punctuation and symbols\n",
    "    text = re.sub(r'[^\\w\\s]', ' ', text)\n",
    "    \n",
    "    # Remove @user mentions\n",
    "    text = re.sub(r'@\\w+', '', text)\n",
    "    \n",
    "    # Remove hashtags\n",
    "    text = re.sub(r'#\\w+', '', text)\n",
    "    \n",
    "   \n",
    "    \n",
    "    return text\n",
    "\n",
    "# Load the data from an Excel file\n",
    "file_path = \"D:\\\\datasets\\\\food and beverages\\\\food court.csv\"\n",
    "df = pd.read_csv(file_path)\n",
    "\n",
    "# Apply the cleaning function to the specified column\n",
    "df['full_text'] = df['full_text'].apply(clean_text)\n",
    "# Remove duplicates\n",
    "df.drop_duplicates(subset=['full_text'], inplace=True)\n",
    "\n",
    "# Remove rows with null values\n",
    "df.dropna(subset=['full_text'], inplace=True)\n",
    "\n",
    "# Save the cleaned data back to a new Excel file\n",
    "cleaned_file_path = \"D:\\\\mani\\\\foodcourt.csv\"\n",
    "df.to_csv(cleaned_file_path, index=False)\n",
    "\n",
    "print(f\"Cleaned data saved to {cleaned_file_path}\")"
   ]
  },
  {
   "cell_type": "markdown",
   "id": "6450a00b",
   "metadata": {},
   "source": [
    "Restaurant"
   ]
  },
  {
   "cell_type": "code",
   "execution_count": 11,
   "id": "26bf492a",
   "metadata": {},
   "outputs": [
    {
     "name": "stdout",
     "output_type": "stream",
     "text": [
      "Cleaned data saved to D:\\mani\\restaurant.csv\n"
     ]
    }
   ],
   "source": [
    "import pandas as pd\n",
    "import re\n",
    "\n",
    "# Define a function to perform the data cleaning tasks\n",
    "def clean_text(text):\n",
    "    # Convert to lowercase\n",
    "    text = text.lower()\n",
    "    # Remove links (URLs)\n",
    "    text = re.sub(r'http\\S+', '', text)\n",
    "    \n",
    "    # Remove punctuation and symbols\n",
    "    text = re.sub(r'[^\\w\\s]', ' ', text)\n",
    "    \n",
    "    # Remove @user mentions\n",
    "    text = re.sub(r'@\\w+', '', text)\n",
    "    \n",
    "    # Remove hashtags\n",
    "    text = re.sub(r'#\\w+', '', text)\n",
    "    \n",
    "   \n",
    "    \n",
    "    return text\n",
    "\n",
    "# Load the data from an Excel file\n",
    "file_path = \"D:\\\\datasets\\\\food and beverages\\\\restaurant_1.csv\"\n",
    "df = pd.read_csv(file_path)\n",
    "\n",
    "# Apply the cleaning function to the specified column\n",
    "df['full_text'] = df['full_text'].apply(clean_text)\n",
    "# Remove duplicates\n",
    "df.drop_duplicates(subset=['full_text'], inplace=True)\n",
    "\n",
    "# Remove rows with null values\n",
    "df.dropna(subset=['full_text'], inplace=True)\n",
    "\n",
    "# Save the cleaned data back to a new Excel file\n",
    "cleaned_file_path = \"D:\\\\mani\\\\restaurant.csv\"\n",
    "df.to_csv(cleaned_file_path, index=False)\n",
    "\n",
    "print(f\"Cleaned data saved to {cleaned_file_path}\")"
   ]
  },
  {
   "cell_type": "code",
   "execution_count": null,
   "id": "6db15cd1",
   "metadata": {},
   "outputs": [],
   "source": []
  }
 ],
 "metadata": {
  "kernelspec": {
   "display_name": "Python 3 (ipykernel)",
   "language": "python",
   "name": "python3"
  },
  "language_info": {
   "codemirror_mode": {
    "name": "ipython",
    "version": 3
   },
   "file_extension": ".py",
   "mimetype": "text/x-python",
   "name": "python",
   "nbconvert_exporter": "python",
   "pygments_lexer": "ipython3",
   "version": "3.11.5"
  }
 },
 "nbformat": 4,
 "nbformat_minor": 5
}
