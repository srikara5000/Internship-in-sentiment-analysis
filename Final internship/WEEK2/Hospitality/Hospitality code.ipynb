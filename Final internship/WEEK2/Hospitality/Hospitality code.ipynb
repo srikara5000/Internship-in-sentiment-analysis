{
 "cells": [
  {
   "cell_type": "markdown",
   "id": "4ab53371",
   "metadata": {},
   "source": [
    "Check-In"
   ]
  },
  {
   "cell_type": "code",
   "execution_count": 2,
   "id": "bbe2992a",
   "metadata": {},
   "outputs": [
    {
     "name": "stdout",
     "output_type": "stream",
     "text": [
      "Cleaned data saved to D:\\hospitality cleaned dataset\\check-in.csv\n"
     ]
    }
   ],
   "source": [
    "import pandas as pd\n",
    "import re\n",
    "\n",
    "# Define a function to perform the data cleaning tasks\n",
    "def clean_text(text):\n",
    "    # Convert to lowercase\n",
    "    text = text.lower()\n",
    "    # Remove links (URLs)\n",
    "    text = re.sub(r'http\\S+', '', text)\n",
    "    \n",
    "    # Remove punctuation and symbols\n",
    "    text = re.sub(r'[^\\w\\s]', ' ', text)\n",
    "    \n",
    "    # Remove @user mentions\n",
    "    text = re.sub(r'@\\w+', '', text)\n",
    "    \n",
    "    # Remove hashtags\n",
    "    text = re.sub(r'#\\w+', '', text)\n",
    "    \n",
    "   \n",
    "    \n",
    "    return text\n",
    "\n",
    "# Load the data from an Excel file\n",
    "file_path = \"D:\\\\datasets\\\\datasets\\\\hospitality\\\\check-in.csv\"\n",
    "df = pd.read_csv(file_path)\n",
    "\n",
    "# Apply the cleaning function to the specified column\n",
    "df['full_text'] = df['full_text'].apply(clean_text)\n",
    "# Remove duplicates\n",
    "df.drop_duplicates(subset=['full_text'], inplace=True)\n",
    "\n",
    "# Remove rows with null values\n",
    "df.dropna(subset=['full_text'], inplace=True)\n",
    "\n",
    "# Save the cleaned data back to a new Excel file\n",
    "cleaned_file_path = \"D:\\\\hospitality cleaned dataset\\\\check-in.csv\"\n",
    "df.to_csv(cleaned_file_path, index=False)\n",
    "\n",
    "print(f\"Cleaned data saved to {cleaned_file_path}\")"
   ]
  },
  {
   "cell_type": "markdown",
   "id": "6043b638",
   "metadata": {},
   "source": [
    "Hospitality"
   ]
  },
  {
   "cell_type": "code",
   "execution_count": 3,
   "id": "3dbe8b95",
   "metadata": {},
   "outputs": [
    {
     "name": "stdout",
     "output_type": "stream",
     "text": [
      "Cleaned data saved to D:\\hospitality cleaned dataset\\check-in.csv\n"
     ]
    }
   ],
   "source": [
    "import pandas as pd\n",
    "import re\n",
    "\n",
    "# Define a function to perform the data cleaning tasks\n",
    "def clean_text(text):\n",
    "    # Convert to lowercase\n",
    "    text = text.lower()\n",
    "    # Remove links (URLs)\n",
    "    text = re.sub(r'http\\S+', '', text)\n",
    "    \n",
    "    # Remove punctuation and symbols\n",
    "    text = re.sub(r'[^\\w\\s]', ' ', text)\n",
    "    \n",
    "    # Remove @user mentions\n",
    "    text = re.sub(r'@\\w+', '', text)\n",
    "    \n",
    "    # Remove hashtags\n",
    "    text = re.sub(r'#\\w+', '', text)\n",
    "    \n",
    "   \n",
    "    \n",
    "    return text\n",
    "\n",
    "# Load the data from an Excel file\n",
    "file_path = \"D:\\\\datasets\\\\datasets\\\\hospitality\\\\hospitality_1.csv\"\n",
    "df = pd.read_csv(file_path)\n",
    "\n",
    "# Apply the cleaning function to the specified column\n",
    "df['full_text'] = df['full_text'].apply(clean_text)\n",
    "# Remove duplicates\n",
    "df.drop_duplicates(subset=['full_text'], inplace=True)\n",
    "\n",
    "# Remove rows with null values\n",
    "df.dropna(subset=['full_text'], inplace=True)\n",
    "\n",
    "# Save the cleaned data back to a new Excel file\n",
    "cleaned_file_path = \"D:\\\\hospitality cleaned dataset\\\\hospitality_1.csv\"\n",
    "df.to_csv(cleaned_file_path, index=False)\n",
    "\n",
    "print(f\"Cleaned data saved to {cleaned_file_path}\")"
   ]
  },
  {
   "cell_type": "markdown",
   "id": "1b1ddd30",
   "metadata": {},
   "source": [
    "Hospitality2"
   ]
  },
  {
   "cell_type": "code",
   "execution_count": 4,
   "id": "13cf9a28",
   "metadata": {},
   "outputs": [
    {
     "name": "stdout",
     "output_type": "stream",
     "text": [
      "Cleaned data saved to D:\\hospitality cleaned dataset\\check-in.csv\n"
     ]
    }
   ],
   "source": [
    "import pandas as pd\n",
    "import re\n",
    "\n",
    "# Define a function to perform the data cleaning tasks\n",
    "def clean_text(text):\n",
    "    # Convert to lowercase\n",
    "    text = text.lower()\n",
    "    # Remove links (URLs)\n",
    "    text = re.sub(r'http\\S+', '', text)\n",
    "    \n",
    "    # Remove punctuation and symbols\n",
    "    text = re.sub(r'[^\\w\\s]', ' ', text)\n",
    "    \n",
    "    # Remove @user mentions\n",
    "    text = re.sub(r'@\\w+', '', text)\n",
    "    \n",
    "    # Remove hashtags\n",
    "    text = re.sub(r'#\\w+', '', text)\n",
    "    \n",
    "   \n",
    "    \n",
    "    return text\n",
    "\n",
    "# Load the data from an Excel file\n",
    "file_path = \"D:\\\\datasets\\\\datasets\\\\hospitality\\\\hospitality_2.csv\"\n",
    "df = pd.read_csv(file_path)\n",
    "\n",
    "# Apply the cleaning function to the specified column\n",
    "df['full_text'] = df['full_text'].apply(clean_text)\n",
    "# Remove duplicates\n",
    "df.drop_duplicates(subset=['full_text'], inplace=True)\n",
    "\n",
    "# Remove rows with null values\n",
    "df.dropna(subset=['full_text'], inplace=True)\n",
    "\n",
    "# Save the cleaned data back to a new Excel file\n",
    "cleaned_file_path = \"D:\\\\hospitality cleaned dataset\\\\hospitality_2.csv\"\n",
    "df.to_csv(cleaned_file_path, index=False)\n",
    "\n",
    "print(f\"Cleaned data saved to {cleaned_file_path}\")"
   ]
  },
  {
   "cell_type": "markdown",
   "id": "0c391330",
   "metadata": {},
   "source": [
    "Lounges"
   ]
  },
  {
   "cell_type": "code",
   "execution_count": 5,
   "id": "e152da71",
   "metadata": {},
   "outputs": [
    {
     "name": "stdout",
     "output_type": "stream",
     "text": [
      "Cleaned data saved to D:\\hospitality cleaned dataset\\check-in.csv\n"
     ]
    }
   ],
   "source": [
    "import pandas as pd\n",
    "import re\n",
    "\n",
    "# Define a function to perform the data cleaning tasks\n",
    "def clean_text(text):\n",
    "    # Convert to lowercase\n",
    "    text = text.lower()\n",
    "    # Remove links (URLs)\n",
    "    text = re.sub(r'http\\S+', '', text)\n",
    "    \n",
    "    # Remove punctuation and symbols\n",
    "    text = re.sub(r'[^\\w\\s]', ' ', text)\n",
    "    \n",
    "    # Remove @user mentions\n",
    "    text = re.sub(r'@\\w+', '', text)\n",
    "    \n",
    "    # Remove hashtags\n",
    "    text = re.sub(r'#\\w+', '', text)\n",
    "    \n",
    "   \n",
    "    \n",
    "    return text\n",
    "\n",
    "# Load the data from an Excel file\n",
    "file_path = \"D:\\\\datasets\\\\datasets\\\\hospitality\\\\lounges.csv\"\n",
    "df = pd.read_csv(file_path)\n",
    "\n",
    "# Apply the cleaning function to the specified column\n",
    "df['full_text'] = df['full_text'].apply(clean_text)\n",
    "# Remove duplicates\n",
    "df.drop_duplicates(subset=['full_text'], inplace=True)\n",
    "\n",
    "# Remove rows with null values\n",
    "df.dropna(subset=['full_text'], inplace=True)\n",
    "\n",
    "# Save the cleaned data back to a new Excel file\n",
    "cleaned_file_path = \"D:\\\\hospitality cleaned dataset\\\\lounges.csv\"\n",
    "df.to_csv(cleaned_file_path, index=False)\n",
    "\n",
    "print(f\"Cleaned data saved to {cleaned_file_path}\")"
   ]
  },
  {
   "cell_type": "markdown",
   "id": "1cbbc745",
   "metadata": {},
   "source": [
    "Waiting"
   ]
  },
  {
   "cell_type": "code",
   "execution_count": 6,
   "id": "86c8654c",
   "metadata": {},
   "outputs": [
    {
     "name": "stdout",
     "output_type": "stream",
     "text": [
      "Cleaned data saved to D:\\hospitality cleaned dataset\\waiting.csv\n"
     ]
    }
   ],
   "source": [
    "import pandas as pd\n",
    "import re\n",
    "\n",
    "# Define a function to perform the data cleaning tasks\n",
    "def clean_text(text):\n",
    "    # Convert to lowercase\n",
    "    text = text.lower()\n",
    "    # Remove links (URLs)\n",
    "    text = re.sub(r'http\\S+', '', text)\n",
    "    \n",
    "    # Remove punctuation and symbols\n",
    "    text = re.sub(r'[^\\w\\s]', ' ', text)\n",
    "    \n",
    "    # Remove @user mentions\n",
    "    text = re.sub(r'@\\w+', '', text)\n",
    "    \n",
    "    # Remove hashtags\n",
    "    text = re.sub(r'#\\w+', '', text)\n",
    "    \n",
    "   \n",
    "    \n",
    "    return text\n",
    "\n",
    "# Load the data from an Excel file\n",
    "file_path = \"D:\\\\datasets\\\\datasets\\\\hospitality\\\\waiting.csv\"\n",
    "df = pd.read_csv(file_path)\n",
    "\n",
    "# Apply the cleaning function to the specified column\n",
    "df['full_text'] = df['full_text'].apply(clean_text)\n",
    "# Remove duplicates\n",
    "df.drop_duplicates(subset=['full_text'], inplace=True)\n",
    "\n",
    "# Remove rows with null values\n",
    "df.dropna(subset=['full_text'], inplace=True)\n",
    "\n",
    "# Save the cleaned data back to a new Excel file\n",
    "cleaned_file_path = \"D:\\\\hospitality cleaned dataset\\\\waiting.csv\"\n",
    "df.to_csv(cleaned_file_path, index=False)\n",
    "\n",
    "print(f\"Cleaned data saved to {cleaned_file_path}\")"
   ]
  },
  {
   "cell_type": "code",
   "execution_count": null,
   "id": "abbd904d",
   "metadata": {},
   "outputs": [],
   "source": []
  },
  {
   "cell_type": "markdown",
   "id": "efe01c35",
   "metadata": {},
   "source": [
    "Waiting Area"
   ]
  },
  {
   "cell_type": "code",
   "execution_count": 7,
   "id": "b10a141e",
   "metadata": {},
   "outputs": [
    {
     "name": "stdout",
     "output_type": "stream",
     "text": [
      "Cleaned data saved to D:\\hospitality cleaned dataset\\waiting-area.csv\n"
     ]
    }
   ],
   "source": [
    "import pandas as pd\n",
    "import re\n",
    "\n",
    "# Define a function to perform the data cleaning tasks\n",
    "def clean_text(text):\n",
    "    # Convert to lowercase\n",
    "    text = text.lower()\n",
    "    # Remove links (URLs)\n",
    "    text = re.sub(r'http\\S+', '', text)\n",
    "    \n",
    "    # Remove punctuation and symbols\n",
    "    text = re.sub(r'[^\\w\\s]', ' ', text)\n",
    "    \n",
    "    # Remove @user mentions\n",
    "    text = re.sub(r'@\\w+', '', text)\n",
    "    \n",
    "    # Remove hashtags\n",
    "    text = re.sub(r'#\\w+', '', text)\n",
    "    \n",
    "   \n",
    "    \n",
    "    return text\n",
    "\n",
    "# Load the data from an Excel file\n",
    "file_path = \"D:\\\\datasets\\\\datasets\\\\hospitality\\\\waiting-area.csv\"\n",
    "df = pd.read_csv(file_path)\n",
    "\n",
    "# Apply the cleaning function to the specified column\n",
    "df['full_text'] = df['full_text'].apply(clean_text)\n",
    "# Remove duplicates\n",
    "df.drop_duplicates(subset=['full_text'], inplace=True)\n",
    "\n",
    "# Remove rows with null values\n",
    "df.dropna(subset=['full_text'], inplace=True)\n",
    "\n",
    "# Save the cleaned data back to a new Excel file\n",
    "cleaned_file_path = \"D:\\\\hospitality cleaned dataset\\\\waiting-area.csv\"\n",
    "df.to_csv(cleaned_file_path, index=False)\n",
    "\n",
    "print(f\"Cleaned data saved to {cleaned_file_path}\")"
   ]
  },
  {
   "cell_type": "code",
   "execution_count": null,
   "id": "e586523b",
   "metadata": {},
   "outputs": [],
   "source": []
  }
 ],
 "metadata": {
  "kernelspec": {
   "display_name": "Python 3",
   "language": "python",
   "name": "python3"
  },
  "language_info": {
   "codemirror_mode": {
    "name": "ipython",
    "version": 3
   },
   "file_extension": ".py",
   "mimetype": "text/x-python",
   "name": "python",
   "nbconvert_exporter": "python",
   "pygments_lexer": "ipython3",
   "version": "3.8.8"
  }
 },
 "nbformat": 4,
 "nbformat_minor": 5
}
